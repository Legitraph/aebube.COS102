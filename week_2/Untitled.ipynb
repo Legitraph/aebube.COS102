{
 "cells": [
  {
   "cell_type": "code",
   "execution_count": 3,
   "id": "276388f2-5dbd-47ae-ad67-c83fdaf566e2",
   "metadata": {},
   "outputs": [
    {
     "name": "stdin",
     "output_type": "stream",
     "text": [
      "Enter your state of origin: Ebonyi \n"
     ]
    },
    {
     "name": "stdout",
     "output_type": "stream",
     "text": [
      "Your state of origin is:  Ebonyi \n",
      "The first chararcter is:  E\n",
      "The characters starting from 3rd to 5th are:  ony\n",
      "The string starting from 3rd character is:  onyi \n",
      "State of origin two times Ebonyi Ebonyi \n"
     ]
    }
   ],
   "source": [
    "str = input(\"Enter your state of origin:\") \n",
    "\n",
    "print (\"Your state of origin is: \", str) \n",
    "print (\"The first chararcter is: \", str[0]) \n",
    "print (\"The characters starting from 3rd to 5th are: \",str[2:5]) \n",
    "print (\"The string starting from 3rd character is: \", str[2:]) \n",
    "print (\"State of origin two times\", str * 2) \n",
    "\n",
    "       "
   ]
  },
  {
   "cell_type": "code",
   "execution_count": null,
   "id": "cafe8852-90ba-44fc-bebb-e6a742731af0",
   "metadata": {},
   "outputs": [],
   "source": []
  }
 ],
 "metadata": {
  "kernelspec": {
   "display_name": "Python 3 (ipykernel)",
   "language": "python",
   "name": "python3"
  },
  "language_info": {
   "codemirror_mode": {
    "name": "ipython",
    "version": 3
   },
   "file_extension": ".py",
   "mimetype": "text/x-python",
   "name": "python",
   "nbconvert_exporter": "python",
   "pygments_lexer": "ipython3",
   "version": "3.11.7"
  }
 },
 "nbformat": 4,
 "nbformat_minor": 5
}
