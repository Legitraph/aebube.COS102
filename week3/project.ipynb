{
 "cells": [
  {
   "cell_type": "code",
   "execution_count": 10,
   "id": "963ad941-b2ed-438e-ac7a-1d9f60e8575e",
   "metadata": {},
   "outputs": [
    {
     "name": "stdout",
     "output_type": "stream",
     "text": [
      "GIRLS TABLE\n",
      "THE TABLE HAS THE FOLLOWING CATEGORIES (NAME AGE HEIGHT AND SCORES)\n",
      "       Name  Age  Height  Scores\n",
      "0    Evelyn   17     5.5      80\n",
      "1   Jessica   16     6.0      85\n",
      "2     Somto   17     5.4      70\n",
      "3     Edith   18     5.9      60\n",
      "4      Liza   16     5.6      76\n",
      "5   Madonna   18     5.5      66\n",
      "6      Waje   17     6.1      87\n",
      "7      Tola   20     6.0      95\n",
      "8     Aisha   19     5.7      50\n",
      "9    Latifa   17     5.5      49\n",
      "10  Chinedu   19     5.7      74\n",
      "11     Liam   16     5.9      87\n",
      "12     Wale   18     5.8      75\n",
      "13   Gbenga   17     6.1      68\n",
      "14   Abiola   20     5.9      66\n",
      "15     Kola   19     5.5      78\n",
      "16    Kunle   16     6.1      87\n",
      "17   George   18     5.4      98\n",
      "18   Thomas   17     5.8      54\n",
      "19   Wesley   19     5.7      60\n"
     ]
    }
   ],
   "source": [
    "import pandas as pd\n",
    "\n",
    "print(\"GIRLS TABLE\")\n",
    "print(\"THE TABLE HAS THE FOLLOWING CATEGORIES (NAME AGE HEIGHT AND SCORES)\")\n",
    "# Girls data\n",
    "girls_data = {\n",
    "    'Name': ['Evelyn', 'Jessica', 'Somto', 'Edith', 'Liza', 'Madonna', 'Waje', 'Tola', 'Aisha', 'Latifa'],\n",
    "    'Age': [17, 16, 17, 18, 16, 18, 17, 20, 19, 17],\n",
    "    'Height': [5.5, 6.0, 5.4, 5.9, 5.6, 5.5, 6.1, 6.0, 5.7, 5.5],\n",
    "    'Scores': [80, 85, 70, 60, 76, 66, 87, 95, 50, 49]\n",
    "}\n",
    "\n",
    "# Boys data\n",
    "boys_data = {\n",
    "    'Name': ['Chinedu', 'Liam', 'Wale', 'Gbenga', 'Abiola', 'Kola', 'Kunle', 'George', 'Thomas', 'Wesley'],\n",
    "    'Age': [19, 16, 18, 17, 20, 19, 16, 18, 17, 19],\n",
    "    'Height': [5.7, 5.9, 5.8, 6.1, 5.9, 5.5, 6.1, 5.4, 5.8, 5.7],\n",
    "    'Scores': [74, 87, 75, 68, 66, 78, 87, 98, 54, 60]\n",
    "}\n",
    "\n",
    "# Create dataframes\n",
    "girls_df = pd.DataFrame(girls_data)\n",
    "boys_df = pd.DataFrame(boys_data)\n",
    "\n",
    "# Combine dataframes\n",
    "combined_df = pd.concat([girls_df, boys_df], ignore_index=True)\n",
    "\n",
    "# Display tabular form\n",
    "print(combined_df)\n",
    "\n"
   ]
  },
  {
   "cell_type": "code",
   "execution_count": null,
   "id": "ad8e41e9-1654-49bb-8780-8222b180adc6",
   "metadata": {},
   "outputs": [],
   "source": []
  }
 ],
 "metadata": {
  "kernelspec": {
   "display_name": "Python 3 (ipykernel)",
   "language": "python",
   "name": "python3"
  },
  "language_info": {
   "codemirror_mode": {
    "name": "ipython",
    "version": 3
   },
   "file_extension": ".py",
   "mimetype": "text/x-python",
   "name": "python",
   "nbconvert_exporter": "python",
   "pygments_lexer": "ipython3",
   "version": "3.11.7"
  }
 },
 "nbformat": 4,
 "nbformat_minor": 5
}
