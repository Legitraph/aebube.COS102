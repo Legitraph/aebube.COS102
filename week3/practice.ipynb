{
 "cells": [
  {
   "cell_type": "code",
   "execution_count": 2,
   "id": "818c78e9-75d6-48d5-ad46-a01c8c22cd13",
   "metadata": {},
   "outputs": [
    {
     "name": "stdin",
     "output_type": "stream",
     "text": [
      "Enter name of city 1:  h\n",
      "Enter name of city 2:  \n"
     ]
    },
    {
     "name": "stdout",
     "output_type": "stream",
     "text": [
      "The name of the City 1 after swapping is \n",
      "The name of the City 2 after swapping is h\n"
     ]
    }
   ],
   "source": [
    "# Phython program to swao two cities\n",
    "\n",
    "# To take input from the user\n",
    "city_1 = input('Enter name of city 1: ')\n",
    "city_2 = input('Enter name of city 2: ')\n",
    "\n",
    "# create a temporary variable and swap the cities\n",
    "temp = city_1\n",
    "city_1 = city_2\n",
    "city_2 = temp\n",
    "\n",
    "print(f\"The name of the City 1 after swapping is {city_1}\")\n",
    "print(f\"The name of the City 2 after swapping is {city_2}\")"
   ]
  },
  {
   "cell_type": "code",
   "execution_count": 4,
   "id": "8d73bc71-a84c-436e-bfa2-1fbbf8d28e0e",
   "metadata": {},
   "outputs": [
    {
     "name": "stdin",
     "output_type": "stream",
     "text": [
      "Enter a number:  -2\n"
     ]
    },
    {
     "name": "stdout",
     "output_type": "stream",
     "text": [
      "Negative number\n"
     ]
    }
   ],
   "source": [
    "# program to check if a number is positive, negative or 0\n",
    "\n",
    "num = float(input(\"Enter a number: \"))\n",
    "if num > 0:\n",
    "    print (\"Positive number\")\n",
    "elif num == 0:\n",
    "    print(\"Zero\")\n",
    "else:\n",
    "    print (\"Negative number\")"
   ]
  },
  {
   "cell_type": "code",
   "execution_count": 9,
   "id": "6a509303-d804-4b72-b7ea-a3867579b11b",
   "metadata": {},
   "outputs": [
    {
     "name": "stdout",
     "output_type": "stream",
     "text": [
      "Welcome to the COUPE DEE ESCRIVA 2023: FOOTBALL PICKS \n",
      "\n",
      "Madiba:  Chubby Obiara-Okafo: \n",
      "Blue-Jays:  Christopher Uweh\n",
      "Cirok:  Alexander\n",
      "TSG Walker:  Ikechukwu\n",
      "\n",
      "\n",
      "Madiba:  Chubby Obiara-Okafo: \n",
      "Blue-Jays:  Oladimeji Abaniwondea/Jeffery Awagwu\n",
      "Cirok:  Timilehinn   Pearse/Izuakeo Jeremy\n",
      "TSG Walker:  Ayomide Ojituku\n"
     ]
    }
   ],
   "source": [
    "# COUPE DEE ESCRIVA 2023: FOOTBALL PICKS\n",
    "\n",
    "print(\"Welcome to the COUPE DEE ESCRIVA 2023: FOOTBALL PICKS \\n\")\n",
    "\n",
    "captain = {'Madiba: ' : 'Chubby Obiara-Okafo: ', 'Blue-Jays: ' : 'Christopher Uweh', \n",
    "           'Cirok: ': 'Alexander', 'TSG Walker: ' : 'Ikechukwu'}\n",
    "\n",
    "goalkeepers = {'Madiba: ' : 'Chubby Obiara-Okafo: ', 'Blue-Jays: ' : 'Oladimeji Abaniwondea/Jeffery Awagwu', \n",
    "           'Cirok: ': 'Timilehinn   Pearse/Izuakeo Jeremy', 'TSG Walker: ' : 'Ayomide Ojituku'}\n",
    "\n",
    "\n",
    "for pick in captain:\n",
    "    print(pick, captain[pick])\n",
    "\n",
    "print(\"\\n\")\n",
    "\n",
    "for pick in goalkeepers:\n",
    "    print (pick, goalkeepers[pick])"
   ]
  },
  {
   "cell_type": "code",
   "execution_count": null,
   "id": "ae07562a-5fe6-406f-b30f-c71d909e3eac",
   "metadata": {},
   "outputs": [],
   "source": []
  }
 ],
 "metadata": {
  "kernelspec": {
   "display_name": "Python 3 (ipykernel)",
   "language": "python",
   "name": "python3"
  },
  "language_info": {
   "codemirror_mode": {
    "name": "ipython",
    "version": 3
   },
   "file_extension": ".py",
   "mimetype": "text/x-python",
   "name": "python",
   "nbconvert_exporter": "python",
   "pygments_lexer": "ipython3",
   "version": "3.11.7"
  }
 },
 "nbformat": 4,
 "nbformat_minor": 5
}
